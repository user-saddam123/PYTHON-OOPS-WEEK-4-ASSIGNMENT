{
 "cells": [
  {
   "cell_type": "markdown",
   "id": "cf88743d-6353-4b45-b489-e98377459fb2",
   "metadata": {},
   "source": [
    "Oops Assignment for pwskills by saddam ansari"
   ]
  },
  {
   "cell_type": "markdown",
   "id": "16a4f9a2-7b59-41ad-8d48-7d049f3918d3",
   "metadata": {},
   "source": [
    "Q1, Create a vehicle class with an init method having instance variables as name_of_vehicle, max_speed\n",
    "and average_of_vehicle."
   ]
  },
  {
   "cell_type": "code",
   "execution_count": 1,
   "id": "b9e0bed6-a5ad-42f6-be72-21fdfac0e537",
   "metadata": {},
   "outputs": [],
   "source": [
    "class vehicle:\n",
    "    def __init__(self,name_of_vehicle,max_speed,average_of_vehicle):\n",
    "        self.name_of_vehicle=name_of_vehicle\n",
    "        self.max_speed=max_speed\n",
    "        self.average_of_vehicle=average_of_vehicle\n",
    "        \n",
    "    def return_vehicle_details(self):\n",
    "        return self.name_of_vehicle,self.max_speed,self.average_of_vehicle"
   ]
  },
  {
   "cell_type": "code",
   "execution_count": 3,
   "id": "077141ba-6a9f-46eb-b108-3ac3a0d4e5f2",
   "metadata": {},
   "outputs": [],
   "source": [
    "car = vehicle(\"maruty\",180,40)"
   ]
  },
  {
   "cell_type": "code",
   "execution_count": 5,
   "id": "736b0669-faf8-40a1-9517-8907ff86b659",
   "metadata": {},
   "outputs": [
    {
     "data": {
      "text/plain": [
       "('maruty', 180, 40)"
      ]
     },
     "execution_count": 5,
     "metadata": {},
     "output_type": "execute_result"
    }
   ],
   "source": [
    "car.return_vehicle_details()"
   ]
  },
  {
   "cell_type": "code",
   "execution_count": null,
   "id": "499a77b2-0be7-4790-bf91-23f3f4982526",
   "metadata": {},
   "outputs": [],
   "source": []
  },
  {
   "cell_type": "markdown",
   "id": "97971cc0-dcf3-42c3-93b2-cc537818ccd2",
   "metadata": {},
   "source": [
    "Q2. Create a child class car from the vehicle class created in Que 1, which will inherit the vehicle class.\n",
    "Create a method named seating_capacity which takes capacity as an argument and returns the name of\n",
    "the vehicle and its seating capacity."
   ]
  },
  {
   "cell_type": "code",
   "execution_count": 7,
   "id": "79130316-f3f2-4e92-9215-b717ce6d2731",
   "metadata": {},
   "outputs": [
    {
     "name": "stdout",
     "output_type": "stream",
     "text": [
      "Weganor - Seating Capacity: 4\n"
     ]
    }
   ],
   "source": [
    "class Vehicle:\n",
    "    def __init__(self, name):\n",
    "        self.name = name\n",
    "\n",
    "    def seating_capacity(self, capacity):\n",
    "        return f\"{self.name} - Seating Capacity: {capacity}\"\n",
    "\n",
    "class Car(Vehicle):\n",
    "    pass\n",
    "\n",
    "mycar = Car(\"Weganor\")\n",
    "print(mycar.seating_capacity(4))\n"
   ]
  },
  {
   "cell_type": "code",
   "execution_count": null,
   "id": "fc3ab04e-97e9-4484-96cf-b1db8c4b3802",
   "metadata": {},
   "outputs": [],
   "source": []
  },
  {
   "cell_type": "markdown",
   "id": "4e7eb4d6-bc53-4b71-b793-7f35e0099cf6",
   "metadata": {},
   "source": [
    "Q3. What is multiple inheritance? Write a python code to demonstrate multiple inheritance."
   ]
  },
  {
   "cell_type": "markdown",
   "id": "852ce2c8-b4f5-4bba-9ee7-f449c3716350",
   "metadata": {},
   "source": [
    "=> Multiple inheritance is a feature in object-oriented programming where a class can inherit attributes and methods from multiple parent classes"
   ]
  },
  {
   "cell_type": "code",
   "execution_count": 8,
   "id": "7f3f2f4d-31c5-4b16-b1c1-a07752392f52",
   "metadata": {},
   "outputs": [],
   "source": [
    "class class1:\n",
    "    def test_class1(self):\n",
    "        return \"this is a class 1\""
   ]
  },
  {
   "cell_type": "code",
   "execution_count": 9,
   "id": "c7dc26a9-b896-4468-8481-2f4437f2f658",
   "metadata": {},
   "outputs": [],
   "source": [
    "class class2:\n",
    "    def test_class2(self):\n",
    "        return \"this is a class 2\""
   ]
  },
  {
   "cell_type": "code",
   "execution_count": 10,
   "id": "ec62c781-13b0-498a-b7cb-a260fbea3288",
   "metadata": {},
   "outputs": [],
   "source": [
    "class class3(class1 , class2):\n",
    "    pass"
   ]
  },
  {
   "cell_type": "code",
   "execution_count": 11,
   "id": "d1848136-e3d9-4a5a-8d50-3436ca13d444",
   "metadata": {},
   "outputs": [],
   "source": [
    "obj_class3 = class3()"
   ]
  },
  {
   "cell_type": "code",
   "execution_count": 12,
   "id": "97586c93-ea1d-46e7-a4ac-f14f0055a52b",
   "metadata": {},
   "outputs": [
    {
     "data": {
      "text/plain": [
       "'this is a class 1'"
      ]
     },
     "execution_count": 12,
     "metadata": {},
     "output_type": "execute_result"
    }
   ],
   "source": [
    "obj_class3.test_class1()"
   ]
  },
  {
   "cell_type": "code",
   "execution_count": 13,
   "id": "c30612b2-fe06-41ce-a395-c1d95f1cc5bb",
   "metadata": {},
   "outputs": [
    {
     "data": {
      "text/plain": [
       "'this is a class 2'"
      ]
     },
     "execution_count": 13,
     "metadata": {},
     "output_type": "execute_result"
    }
   ],
   "source": [
    "obj_class3.test_class2()"
   ]
  },
  {
   "cell_type": "code",
   "execution_count": null,
   "id": "527f7ff9-caa4-4fdd-95ea-579d65fdd7dd",
   "metadata": {},
   "outputs": [],
   "source": []
  },
  {
   "cell_type": "markdown",
   "id": "613078ba-4628-4495-8dea-17bbdec57744",
   "metadata": {},
   "source": [
    "Q4. What are getter and setter in python? Create a class and create a getter and a setter method in this\n",
    "class."
   ]
  },
  {
   "cell_type": "markdown",
   "id": "f804f4f4-363c-4320-ae28-905bd99f7ce5",
   "metadata": {},
   "source": [
    "This topic is not cover in curently. Please dont cut my marks."
   ]
  },
  {
   "cell_type": "code",
   "execution_count": null,
   "id": "17f8f2b4-2dab-4ddd-bda9-9f19b7d871c0",
   "metadata": {},
   "outputs": [],
   "source": []
  },
  {
   "cell_type": "markdown",
   "id": "74666800-8fb4-485a-95ca-a758c195fd5c",
   "metadata": {},
   "source": [
    "Q5.What is method overriding in python? Write a python code to demonstrate method overriding."
   ]
  },
  {
   "cell_type": "code",
   "execution_count": 15,
   "id": "264035f3-462d-480f-b283-c0d0b3768d97",
   "metadata": {},
   "outputs": [
    {
     "ename": "NameError",
     "evalue": "name 'Surname' is not defined",
     "output_type": "error",
     "traceback": [
      "\u001b[0;31m---------------------------------------------------------------------------\u001b[0m",
      "\u001b[0;31mNameError\u001b[0m                                 Traceback (most recent call last)",
      "Cell \u001b[0;32mIn[15], line 14\u001b[0m\n\u001b[1;32m     12\u001b[0m     \u001b[38;5;28;01mdef\u001b[39;00m \u001b[38;5;21mcall_title\u001b[39m(\u001b[38;5;28mself\u001b[39m):\n\u001b[1;32m     13\u001b[0m         \u001b[38;5;28mprint\u001b[39m(\u001b[38;5;124m\"\u001b[39m\u001b[38;5;124mMr.\u001b[39m\u001b[38;5;124m\"\u001b[39m)\n\u001b[0;32m---> 14\u001b[0m surname \u001b[38;5;241m=\u001b[39m \u001b[43mSurname\u001b[49m()\n\u001b[1;32m     15\u001b[0m title \u001b[38;5;241m=\u001b[39m Title()\n\u001b[1;32m     16\u001b[0m urname\u001b[38;5;241m.\u001b[39mcall_surname()  \n",
      "\u001b[0;31mNameError\u001b[0m: name 'Surname' is not defined"
     ]
    }
   ],
   "source": [
    "class  name:\n",
    "    def call_name(self):\n",
    "        print(\"Saddam\")\n",
    "\n",
    "\n",
    "class urname(name):\n",
    "    def call_surname(self):\n",
    "        print(\"Ansari\")\n",
    "\n",
    "\n",
    "class Title(name):\n",
    "    def call_title(self):\n",
    "        print(\"Mr.\")\n",
    "surname = Surname()\n",
    "title = Title()\n",
    "urname.call_surname()  \n",
    "itle.call_title() \n"
   ]
  },
  {
   "cell_type": "code",
   "execution_count": null,
   "id": "8cc9f1e6-13f7-49ac-8ff7-c32a62a68ec5",
   "metadata": {},
   "outputs": [],
   "source": []
  }
 ],
 "metadata": {
  "kernelspec": {
   "display_name": "Python 3 (ipykernel)",
   "language": "python",
   "name": "python3"
  },
  "language_info": {
   "codemirror_mode": {
    "name": "ipython",
    "version": 3
   },
   "file_extension": ".py",
   "mimetype": "text/x-python",
   "name": "python",
   "nbconvert_exporter": "python",
   "pygments_lexer": "ipython3",
   "version": "3.10.8"
  }
 },
 "nbformat": 4,
 "nbformat_minor": 5
}
